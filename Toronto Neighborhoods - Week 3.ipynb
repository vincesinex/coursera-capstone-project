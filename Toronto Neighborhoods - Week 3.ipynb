{
    "nbformat_minor": 1, 
    "cells": [
        {
            "execution_count": 1, 
            "cell_type": "code", 
            "metadata": {}, 
            "outputs": [
                {
                    "output_type": "stream", 
                    "name": "stdout", 
                    "text": "    PostalCode              Borough                                       Neighborhood\n0          M3A           North York                                          Parkwoods\n1          M4A           North York                                   Victoria Village\n2          M5A     Downtown Toronto                          Regent Park, Harbourfront\n3          M6A           North York                   Lawrence Manor, Lawrence Heights\n4          M7A         Queen's Park                                       Queen's Park\n5          M9A            Etobicoke                                   Islington Avenue\n6          M1B          Scarborough                                     Malvern, Rouge\n7          M3B           North York                                          Don Mills\n8          M4B            East York                    Parkview Hill, Woodbine Gardens\n9          M5B     Downtown Toronto                           Garden District, Ryerson\n10         M6B           North York                                         North York\n11         M9B            Etobicoke  West Deane Park, Princess Gardens, Martin Grov...\n12         M1C          Scarborough             Rouge Hill, Port Union, Highland Creek\n13         M3C           North York                         Don Mills, Flemingdon Park\n14         M4C            East York                                   Woodbine Heights\n15         M5C     Downtown Toronto                                     St. James Town\n16         M6C                 York                                 Humewood-Cedarvale\n17         M9C            Etobicoke                                      Markland Wood\n18         M1E          Scarborough                  Guildwood, Morningside, West Hill\n19         M4E          The Beaches                                        The Beaches\n20         M5E     Downtown Toronto                                   Downtown Toronto\n21         M6E                 York                                Caledonia-Fairbanks\n22         M1G          Scarborough                                             Woburn\n23         M4G            East York                                            Leaside\n24         M5G     Downtown Toronto                                         Bay Street\n25         M6G     Downtown Toronto                                   Downtown Toronto\n26         M1H          Scarborough                                          Cedarbrae\n27         M2H           North York                                  Hillcrest Village\n28         M3H           North York          Bathurst Manor, Wilson Heights, Downsview\n29         M4H            East York                                   Thorncliffe Park\n..         ...                  ...                                                ...\n71         M4R        North Toronto                                      North Toronto\n72         M5R            The Annex                           North Midtown, Yorkville\n73         M6R             Parkdale                                       Roncesvalles\n74         M7R          Mississauga                                        Mississauga\n75         M9R            Etobicoke                                  Kingsview Village\n76         M1S          Scarborough                                          Agincourt\n77         M4S           Davisville                                         Davisville\n78         M5S     Downtown Toronto                              University of Toronto\n79         M6S            Runnymede                                            Swansea\n80         M1T          Scarborough                            Tam O'Shanter, Sullivan\n81         M4T           Moore Park                                         Summerhill\n82         M5T     Downtown Toronto          Kensington Market, Chinatown, Grange Park\n83         M1V          Scarborough     Milliken, Agincourt North, Steeles, L'Amoreaux\n84         M4V           Summerhill      Rathnelly, South Hill, Forest Hill, Deer Park\n85         M5V     Downtown Toronto  CN Tower, King and Spadina, Railway Lands, Har...\n86         M8V            Etobicoke                                New Toronto, Mimico\n87         M9V            Etobicoke  South Steeles, Silverstone, Jamestown, Mount O...\n88         M1W          Scarborough                                Steeles, L'Amoreaux\n89         M4W     Downtown Toronto                                           Rosedale\n90         M5W     Downtown Toronto                                   Downtown Toronto\n91         M8W            Etobicoke                             Alderwood, Long Branch\n92         M9W            Etobicoke  Clairville, Humberwood, Woodbine Downs, Rexdal...\n93         M1X          Scarborough                                        Upper Rouge\n94         M4X     Downtown Toronto                        St. James Town, Cabbagetown\n95         M5X     Downtown Toronto             First Canadian Place, Underground city\n96         M8X            Etobicoke                             The Kingsway, Old Mill\n97         M4Y     Downtown Toronto                               Church and Wellesley\n98         M7Y  Business reply mail                                Business reply mail\n99         M8Y            Etobicoke  Old Mill, Sunnylea, Humber Bay, Mimico, The Qu...\n100        M8Z            Etobicoke                              Mimico, The Queensway\n\n[101 rows x 3 columns]\n(101, 3)\n"
                }
            ], 
            "source": "from bs4 import BeautifulSoup\nimport urllib\nimport pandas as pd\nimport requests\n\npd.set_option('display.width', 1000)\n\n# get the Wikipedia page containing postal codes for Toronto\nlink = \"https://en.wikipedia.org/wiki/List_of_postal_codes_of_Canada:_M\"\nresponse = urllib.request.urlopen(link)\nhtml_doc = response.read()\n\n# parse the HTML of the page using Beautiful Soup\nsoup = BeautifulSoup(html_doc, 'html.parser')\n\n# get the Tag called <tbody> (which contains the table of postal codes)\ntbody = soup.tbody\n\n# create a dataframe to store the information scraped from the pages\ntoronto_neighborhoods = pd.DataFrame(columns=['PostalCode', 'Borough', 'Neighborhood'])\n\ntoronto_neighborhoods_index = 0\n\n# drill down through the table, starting at the row level, and then examining each table cell (in each row)\ntable_rows = tbody.find_all(\"tr\")\nfor row in table_rows:\n    table_cells = row.find_all(\"td\")\n    for cell in table_cells:\n        anchors = cell.find_all(\"a\")\n        # if there is only one anchor, this means that there are no neighborhood names,\n        # so assign the neighborhood string to the same value as the borough string\n        if len(anchors) == 1:\n            postal_code = str(cell.b.string)\n            borough = str(cell.a.string)\n            neighborhoods = str(cell.a.string)\n            # add a row to the dataframe with the values obtained from the table cell\n            toronto_neighborhoods.loc[toronto_neighborhoods_index] = [postal_code, borough, neighborhoods]            \n            toronto_neighborhoods_index = toronto_neighborhoods_index + 1\n        # else if there are at least two anchors, this means that there are neighborhood names listed\n        # so loop through the neighborhood tags and concatenate them into a single string\n        elif len(anchors) > 1:\n            postal_code = str(cell.b.string)\n            neighborhoods = \"\"\n            index = 0\n            for anchor in anchors:\n                if index == 0:\n                    borough = str(anchor.string)\n                else:\n                    neighborhoods = neighborhoods + anchor.string + \", \"\n                index = index + 1\n            neighborhoods = neighborhoods[:-2] # remove the trailing comma and space\n            # add a row to the dataframe with the values obtained from the table cell\n            toronto_neighborhoods.loc[toronto_neighborhoods_index] = [postal_code, borough, neighborhoods]            \n            toronto_neighborhoods_index = toronto_neighborhoods_index + 1\n\nprint(toronto_neighborhoods)\nprint(toronto_neighborhoods.shape)"
        }, 
        {
            "execution_count": 2, 
            "cell_type": "code", 
            "metadata": {}, 
            "outputs": [], 
            "source": "# The code was removed by DSX for sharing."
        }, 
        {
            "execution_count": null, 
            "cell_type": "code", 
            "metadata": {}, 
            "outputs": [], 
            "source": "# create two empty Series objects to collect latitudes and longitudes\nlatitudes = pd.Series([])\nlongitudes = pd.Series([])\n\nindex = 0\nwhile index < toronto_neighborhoods.shape[0]:\n    \n    # add \"Toronto\" to the postal code so that the Google API can correctly location based\n    # on both city and postal code\n    extended_postal_code = \"Toronto, \" + toronto_neighborhoods.loc[index]['PostalCode']\n    \n    # construct URL to make API call\n    url = 'https://maps.googleapis.com/maps/api/geocode/json?key={}&address={}'.format(API_key, extended_postal_code)\n\n    response = requests.get(url).json() # get response\n    geographical_data = response['results'][0]['geometry']['location'] # get geographical coordinates\n    latitude = geographical_data['lat']\n    longitude = geographical_data['lng']\n    # create new rows in the \"latitudes\" and \"longitudes\" Series objects with the values obtained\n    latitudes.loc[index] = latitude\n    longitudes.loc[index] = longitude\n    index = index + 1\n    \n# add the \"latitudes\" and \"longitudes\" columns to the main dataframe\ntoronto_neighborhoods['Latitude'] = latitudes\ntoronto_neighborhoods['Longitude'] = longitudes\n\nprint(toronto_neighborhoods)"
        }, 
        {
            "execution_count": null, 
            "cell_type": "code", 
            "metadata": {}, 
            "outputs": [], 
            "source": "import numpy as np # library to handle data in a vectorized manner\n\npd.set_option('display.max_columns', None)\npd.set_option('display.max_rows', None)\n\nimport json # library to handle JSON files\n\n#!conda install -c conda-forge geopy --yes # uncomment this line if you haven't completed the Foursquare API lab\n!pip install geopy\nfrom geopy.geocoders import Nominatim # convert an address into latitude and longitude values\n\nfrom pandas.io.json import json_normalize # tranform JSON file into a pandas dataframe\n\n# Matplotlib and associated plotting modules\nimport matplotlib.cm as cm\nimport matplotlib.colors as colors\n\n# import k-means from clustering stage\nfrom sklearn.cluster import KMeans\n\n#!conda install -c conda-forge folium=0.5.0 --yes # uncomment this line if you haven't completed the Foursquare API lab\n!pip install folium\nimport folium # map rendering library\n\nprint('Libraries imported.')"
        }, 
        {
            "execution_count": null, 
            "cell_type": "code", 
            "metadata": {}, 
            "outputs": [], 
            "source": "downtown_toronto_neighborhoods = toronto_neighborhoods[toronto_neighborhoods['Borough'] == \"Downtown Toronto\"]\ndowntown_toronto_neighborhoods = downtown_toronto_neighborhoods[downtown_toronto_neighborhoods['PostalCode'] != \"M6G\"]\ndowntown_toronto_neighborhoods = downtown_toronto_neighborhoods[downtown_toronto_neighborhoods['PostalCode'] != \"M5W\"]\ndowntown_toronto_neighborhoods = downtown_toronto_neighborhoods.reset_index(drop=True)\n\n# create map of Toronto using latitude and longitude values\nmap_downtown_toronto = folium.Map(location=[latitude, longitude], zoom_start=10)\n\n# add markers to map\nfor lat, lng, borough, neighborhood in zip(downtown_toronto_neighborhoods['Latitude'], downtown_toronto_neighborhoods['Longitude'], downtown_toronto_neighborhoods['Borough'], downtown_toronto_neighborhoods['Neighborhood']):\n    label = '{}, {}'.format(neighborhood, borough)\n    label = folium.Popup(label, parse_html=True)\n    folium.CircleMarker(\n        [lat, lng],\n        radius=5,\n        popup=label,\n        color='blue',\n        fill=True,\n        fill_color='#3186cc',\n        fill_opacity=0.7,\n        parse_html=False).add_to(map_downtown_toronto)  \n    \nmap_downtown_toronto"
        }, 
        {
            "execution_count": null, 
            "cell_type": "code", 
            "metadata": {}, 
            "outputs": [], 
            "source": "# The code was removed by DSX for sharing."
        }, 
        {
            "execution_count": null, 
            "cell_type": "code", 
            "metadata": {}, 
            "outputs": [], 
            "source": "# function that extracts the category of the venue\ndef get_category_type(row):\n    try:\n        categories_list = row['categories']\n    except:\n        categories_list = row['venue.categories']\n        \n    if len(categories_list) == 0:\n        return None\n    else:\n        return categories_list[0]['name']\n    \n\nLIMIT = 100 # limit of number of venues returned by Foursquare API\n\nradius = 500 # define radius\n\ndef getNearbyVenues(names, latitudes, longitudes, radius=500):\n    \n    venues_list=[]\n    for name, lat, lng in zip(names, latitudes, longitudes):\n        print(name)\n            \n        # create the API request URL\n        url = 'https://api.foursquare.com/v2/venues/explore?&client_id={}&client_secret={}&v={}&ll={},{}&radius={}&limit={}'.format(\n            CLIENT_ID, \n            CLIENT_SECRET, \n            VERSION, \n            lat, \n            lng, \n            radius, \n            LIMIT)\n            \n        # make the GET request\n        results = requests.get(url).json()[\"response\"]['groups'][0]['items']\n        \n        # return only relevant information for each nearby venue\n        venues_list.append([(\n            name, \n            lat, \n            lng, \n            v['venue']['name'], \n            v['venue']['location']['lat'], \n            v['venue']['location']['lng'],  \n            v['venue']['categories'][0]['name']) for v in results])\n\n    nearby_venues = pd.DataFrame([item for venue_list in venues_list for item in venue_list])\n    nearby_venues.columns = ['Neighborhood', \n                  'Neighborhood Latitude', \n                  'Neighborhood Longitude', \n                  'Venue', \n                  'Venue Latitude', \n                  'Venue Longitude', \n                  'Venue Category']\n    \n    return(nearby_venues)\n\ndowntown_toronto_venues = getNearbyVenues(names=downtown_toronto_neighborhoods['Neighborhood'],\n                                   latitudes=downtown_toronto_neighborhoods['Latitude'],\n                                   longitudes=downtown_toronto_neighborhoods['Longitude']\n                                  )\n\n"
        }, 
        {
            "execution_count": null, 
            "cell_type": "code", 
            "metadata": {}, 
            "outputs": [], 
            "source": "print(downtown_toronto_venues.shape)\ndowntown_toronto_venues.head()"
        }, 
        {
            "execution_count": null, 
            "cell_type": "code", 
            "metadata": {}, 
            "outputs": [], 
            "source": "downtown_toronto_venues.groupby('Neighborhood').count()"
        }, 
        {
            "execution_count": null, 
            "cell_type": "code", 
            "metadata": {}, 
            "outputs": [], 
            "source": "# one hot encoding\ndowntown_toronto_onehot = pd.get_dummies(downtown_toronto_venues[['Venue Category']], prefix=\"\", prefix_sep=\"\")\n\n# add neighborhood column back to dataframe\ndowntown_toronto_onehot['Neighborhood'] = downtown_toronto_venues['Neighborhood'] \n\n# move neighborhood column to the first column\nfixed_columns = [downtown_toronto_onehot.columns[-1]] + list(downtown_toronto_onehot.columns[:-1])\ndowntown_toronto_onehot = downtown_toronto_onehot[fixed_columns]\n\ndowntown_toronto_onehot.head()"
        }, 
        {
            "execution_count": null, 
            "cell_type": "code", 
            "metadata": {}, 
            "outputs": [], 
            "source": "downtown_toronto_onehot.shape"
        }, 
        {
            "execution_count": null, 
            "cell_type": "code", 
            "metadata": {}, 
            "outputs": [], 
            "source": "downtown_toronto_grouped = downtown_toronto_onehot.groupby('Neighborhood').mean().reset_index()\ndowntown_toronto_grouped"
        }, 
        {
            "execution_count": null, 
            "cell_type": "code", 
            "metadata": {}, 
            "outputs": [], 
            "source": "downtown_toronto_grouped.shape"
        }, 
        {
            "execution_count": null, 
            "cell_type": "code", 
            "metadata": {}, 
            "outputs": [], 
            "source": "num_top_venues = 5\n\nfor hood in downtown_toronto_grouped['Neighborhood']:\n    print(\"----\"+hood+\"----\")\n    temp = downtown_toronto_grouped[downtown_toronto_grouped['Neighborhood'] == hood].T.reset_index()\n    temp.columns = ['venue','freq']\n    temp = temp.iloc[1:]\n    temp['freq'] = temp['freq'].astype(float)\n    temp = temp.round({'freq': 2})\n    print(temp.sort_values('freq', ascending=False).reset_index(drop=True).head(num_top_venues))\n    print('\\n')"
        }, 
        {
            "execution_count": null, 
            "cell_type": "code", 
            "metadata": {}, 
            "outputs": [], 
            "source": "def return_most_common_venues(row, num_top_venues):\n    row_categories = row.iloc[1:]\n    row_categories_sorted = row_categories.sort_values(ascending=False)\n    \n    return row_categories_sorted.index.values[0:num_top_venues]"
        }, 
        {
            "execution_count": null, 
            "cell_type": "code", 
            "metadata": {}, 
            "outputs": [], 
            "source": "num_top_venues = 10\n\nindicators = ['st', 'nd', 'rd']\n\n# create columns according to number of top venues\ncolumns = ['Neighborhood']\nfor ind in np.arange(num_top_venues):\n    try:\n        columns.append('{}{} Most Common Venue'.format(ind+1, indicators[ind]))\n    except:\n        columns.append('{}th Most Common Venue'.format(ind+1))\n\n# create a new dataframe\nneighborhoods_venues_sorted = pd.DataFrame(columns=columns)\nneighborhoods_venues_sorted['Neighborhood'] = downtown_toronto_grouped['Neighborhood']\n\nfor ind in np.arange(downtown_toronto_grouped.shape[0]):\n    neighborhoods_venues_sorted.iloc[ind, 1:] = return_most_common_venues(downtown_toronto_grouped.iloc[ind, :], num_top_venues)\n\nneighborhoods_venues_sorted"
        }, 
        {
            "execution_count": null, 
            "cell_type": "code", 
            "metadata": {}, 
            "outputs": [], 
            "source": "# set number of clusters\nkclusters = 5\n\ndowntown_toronto_grouped_clustering = downtown_toronto_grouped.drop('Neighborhood', 1)\n\n# run k-means clustering\nkmeans = KMeans(n_clusters=kclusters, random_state=0).fit(downtown_toronto_grouped_clustering)\n\n# check cluster labels generated for each row in the dataframe\nkmeans.labels_ "
        }, 
        {
            "execution_count": null, 
            "cell_type": "code", 
            "metadata": {}, 
            "outputs": [], 
            "source": "downtown_toronto_merged = downtown_toronto_neighborhoods\n\n# add clustering labels\ndowntown_toronto_merged['Cluster Labels'] = kmeans.labels_\n\n# merge toronto_grouped with downtown_toronto_neighborhoods to add latitude/longitude for each neighborhood\ndowntown_toronto_merged = downtown_toronto_merged.join(neighborhoods_venues_sorted.set_index('Neighborhood'), on='Neighborhood')\n\ndowntown_toronto_merged.head() # check the last columns!"
        }, 
        {
            "execution_count": null, 
            "cell_type": "code", 
            "metadata": {}, 
            "outputs": [], 
            "source": "# create map\nmap_clusters = folium.Map(location=[latitude, longitude], zoom_start=11)\n\n# set color scheme for the clusters\nx = np.arange(kclusters)\nys = [i+x+(i*x)**2 for i in range(kclusters)]\ncolors_array = cm.rainbow(np.linspace(0, 1, len(ys)))\nrainbow = [colors.rgb2hex(i) for i in colors_array]\n\n# add markers to the map\nmarkers_colors = []\nfor lat, lon, poi, cluster in zip(downtown_toronto_merged['Latitude'], downtown_toronto_merged['Longitude'], downtown_toronto_merged['Neighborhood'], downtown_toronto_merged['Cluster Labels']):\n    label = folium.Popup(str(poi) + ' Cluster ' + str(cluster), parse_html=True)\n    folium.CircleMarker(\n        [lat, lon],\n        radius=5,\n        popup=label,\n        color=rainbow[cluster-1],\n        fill=True,\n        fill_color=rainbow[cluster-1],\n        fill_opacity=0.7).add_to(map_clusters)\n       \nmap_clusters"
        }, 
        {
            "execution_count": null, 
            "cell_type": "code", 
            "metadata": {}, 
            "outputs": [], 
            "source": "downtown_toronto_merged.loc[downtown_toronto_merged['Cluster Labels'] == 0, downtown_toronto_merged.columns[[2] + list(range(5, downtown_toronto_merged.shape[1]))]]"
        }, 
        {
            "execution_count": null, 
            "cell_type": "code", 
            "metadata": {}, 
            "outputs": [], 
            "source": "downtown_toronto_merged.loc[downtown_toronto_merged['Cluster Labels'] == 1, downtown_toronto_merged.columns[[2] + list(range(5, downtown_toronto_merged.shape[1]))]]"
        }, 
        {
            "execution_count": null, 
            "cell_type": "code", 
            "metadata": {}, 
            "outputs": [], 
            "source": "downtown_toronto_merged.loc[downtown_toronto_merged['Cluster Labels'] == 2, downtown_toronto_merged.columns[[2] + list(range(5, downtown_toronto_merged.shape[1]))]]"
        }, 
        {
            "execution_count": null, 
            "cell_type": "code", 
            "metadata": {}, 
            "outputs": [], 
            "source": "downtown_toronto_merged.loc[downtown_toronto_merged['Cluster Labels'] == 3, downtown_toronto_merged.columns[[2] + list(range(5, downtown_toronto_merged.shape[1]))]]"
        }, 
        {
            "execution_count": null, 
            "cell_type": "code", 
            "metadata": {}, 
            "outputs": [], 
            "source": "downtown_toronto_merged.loc[downtown_toronto_merged['Cluster Labels'] == 4, downtown_toronto_merged.columns[[2] + list(range(5, downtown_toronto_merged.shape[1]))]]"
        }, 
        {
            "execution_count": null, 
            "cell_type": "code", 
            "metadata": {}, 
            "outputs": [], 
            "source": "# Observations:  \n\n# Cluster 0 is differentiated by the fact that is has \"Clothing Store\" and \"Cosmetics Shop\" in its top 5; these venues don't show up in the top 10 of any other neighborhood\n# in any other cluster\n\n# Cluster 1 is differentiated by the fact that there are a lot of \"Coffee Shops\" and \"Cafe\" in the top 5 for each neighborhood, but only few venues which are \n# are actual restaurants\n\n# Cluster 2 is differentiated by the fact that its venues are almost all airport-related \n\n# Cluster 3 is differentiated by the fact that it has more \"Hotel\" and \"...Restaurant\" venues in its top 5 than other clusters\n\n# Cluster 4 is differentiated by the fact that it has more \"Bar\" and \"Cocktail Bar\" venues in its top 5 than other clusters"
        }, 
        {
            "execution_count": null, 
            "cell_type": "code", 
            "metadata": {}, 
            "outputs": [], 
            "source": ""
        }
    ], 
    "metadata": {
        "kernelspec": {
            "display_name": "Python 3.5", 
            "name": "python3", 
            "language": "python"
        }, 
        "language_info": {
            "mimetype": "text/x-python", 
            "nbconvert_exporter": "python", 
            "version": "3.5.5", 
            "name": "python", 
            "file_extension": ".py", 
            "pygments_lexer": "ipython3", 
            "codemirror_mode": {
                "version": 3, 
                "name": "ipython"
            }
        }
    }, 
    "nbformat": 4
}